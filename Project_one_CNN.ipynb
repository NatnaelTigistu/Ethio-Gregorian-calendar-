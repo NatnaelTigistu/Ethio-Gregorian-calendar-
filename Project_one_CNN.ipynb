{
  "nbformat": 4,
  "nbformat_minor": 0,
  "metadata": {
    "colab": {
      "provenance": [],
      "gpuType": "T4",
      "mount_file_id": "1A5yHhjoxk_RuVCvop5aYxNZgK4t5lg1F",
      "authorship_tag": "ABX9TyMeIjdUcBnhZyBLtctK0hTN",
      "include_colab_link": true
    },
    "kernelspec": {
      "name": "python3",
      "display_name": "Python 3"
    },
    "language_info": {
      "name": "python"
    },
    "accelerator": "GPU"
  },
  "cells": [
    {
      "cell_type": "markdown",
      "metadata": {
        "id": "view-in-github",
        "colab_type": "text"
      },
      "source": [
        "<a href=\"https://colab.research.google.com/github/NatnaelTigistu/Ethio-Gregorian-calendar-/blob/main/Project_one_CNN.ipynb\" target=\"_parent\"><img src=\"https://colab.research.google.com/assets/colab-badge.svg\" alt=\"Open In Colab\"/></a>"
      ]
    },
    {
      "cell_type": "code",
      "execution_count": 1,
      "metadata": {
        "id": "2BiKP0H4sRbW",
        "colab": {
          "base_uri": "https://localhost:8080/"
        },
        "outputId": "37b54e88-7086-4f60-cb19-1ccade34d635"
      },
      "outputs": [
        {
          "output_type": "stream",
          "name": "stdout",
          "text": [
            "Downloading data from https://storage.googleapis.com/tensorflow/tf-keras-datasets/mnist.npz\n",
            "\u001b[1m11490434/11490434\u001b[0m \u001b[32m━━━━━━━━━━━━━━━━━━━━\u001b[0m\u001b[37m\u001b[0m \u001b[1m2s\u001b[0m 0us/step\n"
          ]
        },
        {
          "output_type": "stream",
          "name": "stderr",
          "text": [
            "/usr/local/lib/python3.12/dist-packages/keras/src/layers/convolutional/base_conv.py:113: UserWarning: Do not pass an `input_shape`/`input_dim` argument to a layer. When using Sequential models, prefer using an `Input(shape)` object as the first layer in the model instead.\n",
            "  super().__init__(activity_regularizer=activity_regularizer, **kwargs)\n"
          ]
        },
        {
          "output_type": "stream",
          "name": "stdout",
          "text": [
            "Epoch 1/12\n",
            "422/422 - 10s - 24ms/step - accuracy: 0.8989 - loss: 0.3242 - val_accuracy: 0.9838 - val_loss: 0.0606\n",
            "Epoch 2/12\n",
            "422/422 - 2s - 4ms/step - accuracy: 0.9694 - loss: 0.1030 - val_accuracy: 0.9863 - val_loss: 0.0468\n",
            "Epoch 3/12\n",
            "422/422 - 2s - 5ms/step - accuracy: 0.9772 - loss: 0.0755 - val_accuracy: 0.9902 - val_loss: 0.0382\n",
            "Epoch 4/12\n",
            "422/422 - 2s - 5ms/step - accuracy: 0.9810 - loss: 0.0614 - val_accuracy: 0.9902 - val_loss: 0.0364\n",
            "Epoch 5/12\n",
            "422/422 - 2s - 4ms/step - accuracy: 0.9836 - loss: 0.0527 - val_accuracy: 0.9900 - val_loss: 0.0360\n",
            "Epoch 6/12\n",
            "422/422 - 2s - 4ms/step - accuracy: 0.9860 - loss: 0.0448 - val_accuracy: 0.9907 - val_loss: 0.0342\n",
            "Epoch 7/12\n",
            "422/422 - 2s - 4ms/step - accuracy: 0.9880 - loss: 0.0393 - val_accuracy: 0.9902 - val_loss: 0.0357\n",
            "Epoch 8/12\n",
            "422/422 - 2s - 5ms/step - accuracy: 0.9893 - loss: 0.0344 - val_accuracy: 0.9907 - val_loss: 0.0360\n",
            "Epoch 9/12\n",
            "422/422 - 2s - 4ms/step - accuracy: 0.9895 - loss: 0.0329 - val_accuracy: 0.9905 - val_loss: 0.0327\n",
            "Epoch 10/12\n",
            "422/422 - 2s - 4ms/step - accuracy: 0.9908 - loss: 0.0286 - val_accuracy: 0.9910 - val_loss: 0.0345\n",
            "Epoch 11/12\n",
            "422/422 - 2s - 5ms/step - accuracy: 0.9914 - loss: 0.0272 - val_accuracy: 0.9923 - val_loss: 0.0308\n",
            "Epoch 12/12\n",
            "422/422 - 2s - 4ms/step - accuracy: 0.9921 - loss: 0.0235 - val_accuracy: 0.9925 - val_loss: 0.0341\n"
          ]
        }
      ],
      "source": [
        "import numpy as np\n",
        "import cv2\n",
        "from tensorflow.keras.models import load_model\n",
        "import matplotlib.pyplot as plt\n",
        "import tensorflow as tf\n",
        "from tensorflow.keras import layers, models\n",
        "(x_train, y_train), (x_test, y_test) = tf.keras.datasets.mnist.load_data()\n",
        "x_train = x_train.astype('float32') / 255.0\n",
        "x_test = x_test.astype('float32') / 255.0\n",
        "x_train = np.expand_dims(x_train, -1)\n",
        "x_test = np.expand_dims(x_test, -1)\n",
        "model = models.Sequential([\n",
        "    layers.Conv2D(32, (3,3), activation='relu', input_shape=(28,28,1)),\n",
        "    layers.MaxPooling2D((2,2)),\n",
        "    layers.Conv2D(64, (3,3), activation='relu'),\n",
        "    layers.MaxPooling2D((2,2)),\n",
        "    layers.Flatten(),\n",
        "    layers.Dense(128, activation='relu'),\n",
        "    layers.Dropout(0.5),\n",
        "    layers.Dense(10, activation='softmax')\n",
        "])\n",
        "model.compile(optimizer='adam',\n",
        "              loss='sparse_categorical_crossentropy',\n",
        "              metrics=['accuracy'])\n",
        "history = model.fit(x_train, y_train,\n",
        "                    epochs=12,\n",
        "                    batch_size=128,\n",
        "                    validation_split=0.1,\n",
        "                    verbose=2)\n"
      ]
    },
    {
      "cell_type": "code",
      "source": [
        "img = cv2.imread('my_digits/image 1.png', cv2.IMREAD_GRAYSCALE)\n",
        "\n",
        "if img is not None:\n",
        "    img = img.astype('float32') / 255.0\n",
        "    img = np.expand_dims(img, axis=-1)\n",
        "    img = np.expand_dims(img, axis=0)\n",
        "\n",
        "    prediction = model.predict(img)\n",
        "    print(\"Predicted digit:\", np.argmax(prediction))\n",
        "else:\n",
        "    print(\"Error: Could not load image. Please check the file path.\")"
      ],
      "metadata": {
        "colab": {
          "base_uri": "https://localhost:8080/"
        },
        "id": "KjDTRfOvPLL8",
        "outputId": "007f3e4f-39ab-4177-9c10-389405699b94"
      },
      "execution_count": null,
      "outputs": [
        {
          "output_type": "stream",
          "name": "stdout",
          "text": [
            "Error: Could not load image. Please check the file path.\n"
          ]
        }
      ]
    },
    {
      "cell_type": "markdown",
      "source": [],
      "metadata": {
        "id": "TKtmBtv0ci5Q"
      }
    },
    {
      "cell_type": "code",
      "metadata": {
        "colab": {
          "base_uri": "https://localhost:8080/"
        },
        "id": "62d76f85",
        "outputId": "4d14bbd8-202e-4d97-b2d0-79312e090229"
      },
      "source": [
        "img_path = '/content/drive/MyDrive/Colab Notebooks/processed_28x28.png' # Change this to the path of your new image\n",
        "img = cv2.imread(img_path, cv2.IMREAD_GRAYSCALE)\n",
        "img = cv2.resize(img, (28, 28))\n",
        "\n",
        "# Invert colors if your digit is black on white (MNIST is white on black)\n",
        "img = 255 - img\n",
        "\n",
        "\n",
        "if img is not None:\n",
        "    img = img.astype('float32') / 255.0\n",
        "    img = np.expand_dims(img, axis=-1)\n",
        "    img = np.expand_dims(img, axis=0)\n",
        "\n",
        "    prediction = model.predict(img)\n",
        "    print(\"Predicted digit:\", np.argmax(prediction))\n",
        "else:\n",
        "    print(f\"Error: Could not load image from {img_path}. Please check the file path.\")"
      ],
      "execution_count": 2,
      "outputs": [
        {
          "output_type": "stream",
          "name": "stdout",
          "text": [
            "\u001b[1m1/1\u001b[0m \u001b[32m━━━━━━━━━━━━━━━━━━━━\u001b[0m\u001b[37m\u001b[0m \u001b[1m0s\u001b[0m 454ms/step\n",
            "Predicted digit: 0\n"
          ]
        }
      ]
    }
  ]
}